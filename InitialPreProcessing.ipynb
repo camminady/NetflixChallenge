{
 "cells": [
  {
   "cell_type": "code",
   "execution_count": null,
   "metadata": {},
   "outputs": [],
   "source": [
    "import pandas as pd \n",
    "import os \n",
    "import numpy as np\n",
    "from datetime import datetime"
   ]
  },
  {
   "cell_type": "code",
   "execution_count": null,
   "metadata": {},
   "outputs": [],
   "source": [
    "file = open(\"nf_prize_dataset.tar/download/movie_titles.txt\", \"r\",encoding = \"ISO-8859-1\")\n",
    "ids,years,titles = [],[],[]\n",
    "for line in file:\n",
    "    x = line.split(\",\")\n",
    "    i,year = x[0],x[1]\n",
    "    title = \",\".join(x[2:]).strip(\"\\n\") # Titles might contain commas + Remove trailing \\n\n",
    "    ids.append(i)\n",
    "    years.append(year)\n",
    "    titles.append(title)\n",
    "df_titles = pd.DataFrame({\"id\":ids,\"year\":years,\"title\":titles})\n",
    "print(df_titles)"
   ]
  },
  {
   "cell_type": "code",
   "execution_count": null,
   "metadata": {},
   "outputs": [],
   "source": [
    "datadir = \"nf_prize_dataset.tar/download/training_set/training_set\"\n",
    "N = 100500000 # Roughly this many Views exist\n",
    "I = np.empty(N,dtype = np.uint32)\n",
    "J = np.empty(N,dtype = np.uint32)\n",
    "V = np.empty(N,dtype = np.uint8)\n",
    "n = 0\n",
    "nfiles = 0\n",
    "for file in os.listdir(datadir):\n",
    "    if file.endswith(\".txt\"):\n",
    "        filepath = os.path.join(datadir, file)\n",
    "        filmID = int(file.split(\"_\")[1].split(\".\")[0])\n",
    "        tmp = np.loadtxt(filepath,skiprows = 1,delimiter = \",\",\n",
    "                         usecols = [0,1],dtype='int')\n",
    "        l = tmp.shape[0]\n",
    "        I[n:n+l] = filmID\n",
    "        J[n:n+l] = tmp[:,0]\n",
    "        V[n:n+l] = tmp[:,1]\n",
    "        n+= l\n",
    "        nfiles += 1\n",
    "        if nfiles % 1000 == 0:\n",
    "            print(nfiles)"
   ]
  },
  {
   "cell_type": "code",
   "execution_count": null,
   "metadata": {},
   "outputs": [],
   "source": [
    "Iuint16 = np.array(I,dtype=np.uint16)\n",
    "np.save(\"I.npy\",Iuint16[:n])"
   ]
  },
  {
   "cell_type": "code",
   "execution_count": null,
   "metadata": {},
   "outputs": [],
   "source": [
    "Juint32 = np.array(J,dtype=np.uint32)\n",
    "np.save(\"J.npy\",Juint32[:n])"
   ]
  },
  {
   "cell_type": "code",
   "execution_count": null,
   "metadata": {},
   "outputs": [],
   "source": [
    "np.save(\"V.npy\",V[:n])"
   ]
  },
  {
   "cell_type": "code",
   "execution_count": null,
   "metadata": {},
   "outputs": [],
   "source": [
    "years = df_titles[\"year\"]\n",
    "years[years=='NULL'] = 0\n",
    "years = years.astype(np.int) \n",
    "release = years.astype(np.uint16)\n",
    "print(release)\n",
    "np.save(\"R.npy\",release)"
   ]
  },
  {
   "cell_type": "code",
   "execution_count": null,
   "metadata": {},
   "outputs": [],
   "source": [
    "titles = df_titles[\"title\"]\n",
    "print(titles)\n",
    "np.save(\"T.npy\",titles)"
   ]
  },
  {
   "cell_type": "code",
   "execution_count": 219,
   "metadata": {},
   "outputs": [],
   "source": [
    "z = np.load(\"T.npy\",allow_pickle=True)"
   ]
  },
  {
   "cell_type": "code",
   "execution_count": 220,
   "metadata": {},
   "outputs": [
    {
     "data": {
      "text/plain": [
       "array(['Dinosaur Planet', 'Isle of Man TT 2004 Review', 'Character', ...,\n",
       "       'Epoch', 'The Company', 'Alien Hunter'], dtype=object)"
      ]
     },
     "execution_count": 220,
     "metadata": {},
     "output_type": "execute_result"
    }
   ],
   "source": [
    "z"
   ]
  },
  {
   "cell_type": "code",
   "execution_count": null,
   "metadata": {},
   "outputs": [],
   "source": [
    "datadir = \"nf_prize_dataset.tar/download/training_set/training_set\"\n",
    "N = 100500000 # Roughly this many Views exist\n",
    "Y = np.empty(N,dtype = np.uint16)\n",
    "M = np.empty(N,dtype = np.uint8)\n",
    "D = np.empty(N,dtype = np.uint8)\n",
    "\n",
    "n = 0\n",
    "nfiles = 0\n",
    "for file in os.listdir(datadir):\n",
    "    if file.endswith(\".txt\"):\n",
    "        filepath = os.path.join(datadir, file)\n",
    "        filmID = int(file.split(\"_\")[1].split(\".\")[0])\n",
    "        tmp = np.loadtxt(filepath,skiprows = 1,delimiter = \",\",\n",
    "                         usecols = [2],dtype=str)\n",
    "        for item in tmp:\n",
    "            try:\n",
    "                x = np.fromstring(item,dtype=np.uint16,sep=\"-\") \n",
    "                Y[n] = x[0]\n",
    "                M[n] = x[1]\n",
    "                D[n] = x[2]\n",
    "                n += 1\n",
    "            except:\n",
    "                print(\"Something went wrong at {}\".format(item))\n",
    "                Y[n] = 0\n",
    "                M[n] = 0\n",
    "                D[n] = 0\n",
    "                n+= 1\n",
    "        \n",
    "        nfiles += 1\n",
    "        if nfiles % 1000 == 0:\n",
    "            print(nfiles)"
   ]
  },
  {
   "cell_type": "code",
   "execution_count": null,
   "metadata": {},
   "outputs": [],
   "source": [
    "Yuint16 = np.array(Y,dtype=np.uint16)\n",
    "np.save(\"Y.npy\",Yuint16[:n])"
   ]
  },
  {
   "cell_type": "code",
   "execution_count": null,
   "metadata": {},
   "outputs": [],
   "source": [
    "Muint16 = np.array(M,dtype=np.uint8)\n",
    "np.save(\"M.npy\",Muint16[:n])"
   ]
  },
  {
   "cell_type": "code",
   "execution_count": null,
   "metadata": {},
   "outputs": [],
   "source": [
    "Duint16 = np.array(D,dtype=np.uint8)\n",
    "np.save(\"D.npy\",Duint16[:n])"
   ]
  },
  {
   "cell_type": "code",
   "execution_count": 223,
   "metadata": {},
   "outputs": [
    {
     "data": {
      "text/plain": [
       "17770"
      ]
     },
     "execution_count": 223,
     "metadata": {},
     "output_type": "execute_result"
    }
   ],
   "source": [
    "len(z)"
   ]
  },
  {
   "cell_type": "code",
   "execution_count": null,
   "metadata": {},
   "outputs": [],
   "source": []
  }
 ],
 "metadata": {
  "kernelspec": {
   "display_name": "Python 3",
   "language": "python",
   "name": "python3"
  },
  "language_info": {
   "codemirror_mode": {
    "name": "ipython",
    "version": 3
   },
   "file_extension": ".py",
   "mimetype": "text/x-python",
   "name": "python",
   "nbconvert_exporter": "python",
   "pygments_lexer": "ipython3",
   "version": "3.7.6"
  }
 },
 "nbformat": 4,
 "nbformat_minor": 4
}
