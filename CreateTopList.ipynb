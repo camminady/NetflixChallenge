{
 "cells": [
  {
   "cell_type": "code",
   "execution_count": null,
   "metadata": {},
   "outputs": [],
   "source": [
    "import pandas as pd\n",
    "import numpy as np"
   ]
  },
  {
   "cell_type": "code",
   "execution_count": null,
   "metadata": {},
   "outputs": [],
   "source": [
    "df = pd.read_csv(\"summary_v2.csv\")"
   ]
  },
  {
   "cell_type": "code",
   "execution_count": null,
   "metadata": {},
   "outputs": [],
   "source": [
    "treshold = 12345 #  Take only movies with more than this many ratings"
   ]
  },
  {
   "cell_type": "code",
   "execution_count": null,
   "metadata": {},
   "outputs": [],
   "source": [
    "\n",
    "topmovies = df[df[\"count\"]>treshold].reset_index() \n",
    "print(\"When we require {} ratings, we are left with {} movies\".format(treshold,len(topmovies)), end= \" \")\n",
    "topidx = np.zeros(len(topmovies) + np.sum(topmovies[\"idxstop\"]  - topmovies[\"idxstart\"]),dtype = np.uint32) # Indices of ratings for the top movies selected above\n",
    "count = 0\n",
    "for n in range(len(topmovies)):\n",
    "    m = topmovies.iloc[n][\"idxstop\"]+1 - topmovies.iloc[n][\"idxstart\"]\n",
    "    topidx[count : count+ m] = np.arange(topmovies.iloc[n][\"idxstart\"], topmovies.iloc[n][\"idxstop\"]+1)\n",
    "    count += m\n",
    "np.save(\"count{}\".format(treshold),topidx)\n",
    "print(\"and are down to {}% of ratings.\".format(100*len(topidx) //100480507))\n",
    "print(\"File saved as: count{}.npy\".format(treshold))\n"
   ]
  }
 ],
 "metadata": {
  "kernelspec": {
   "display_name": "Python 3",
   "language": "python",
   "name": "python3"
  },
  "language_info": {
   "codemirror_mode": {
    "name": "ipython",
    "version": 3
   },
   "file_extension": ".py",
   "mimetype": "text/x-python",
   "name": "python",
   "nbconvert_exporter": "python",
   "pygments_lexer": "ipython3",
   "version": "3.7.6"
  }
 },
 "nbformat": 4,
 "nbformat_minor": 4
}
